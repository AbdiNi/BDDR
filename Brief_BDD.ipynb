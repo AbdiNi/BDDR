{
 "cells": [
  {
   "cell_type": "markdown",
   "metadata": {},
   "source": []
  },
  {
   "cell_type": "code",
   "execution_count": 1,
   "metadata": {},
   "outputs": [],
   "source": [
    "#impotation de la librairie\n",
    "import pandas as pd"
   ]
  },
  {
   "cell_type": "code",
   "execution_count": 2,
   "metadata": {},
   "outputs": [],
   "source": [
    "netflix_titles= pd.read_csv('/home/nidhal/Netflix_Project/netflix_titles.csv')"
   ]
  },
  {
   "cell_type": "code",
   "execution_count": 3,
   "metadata": {},
   "outputs": [],
   "source": [
    "netflix_shows = pd.read_csv('/home/nidhal/Netflix_Project/Netflix_Shows.csv') "
   ]
  },
  {
   "cell_type": "code",
   "execution_count": null,
   "metadata": {},
   "outputs": [],
   "source": [
    "netflix_titles.head()"
   ]
  },
  {
   "cell_type": "code",
   "execution_count": null,
   "metadata": {},
   "outputs": [],
   "source": [
    "netflix_shows.head()"
   ]
  },
  {
   "cell_type": "code",
   "execution_count": 4,
   "metadata": {},
   "outputs": [
    {
     "data": {
      "text/plain": [
       "show_id          int64\n",
       "type            object\n",
       "title           object\n",
       "director        object\n",
       "cast            object\n",
       "country         object\n",
       "date_added      object\n",
       "release_year     int64\n",
       "rating          object\n",
       "duration        object\n",
       "listed_in       object\n",
       "description     object\n",
       "dtype: object"
      ]
     },
     "execution_count": 4,
     "metadata": {},
     "output_type": "execute_result"
    }
   ],
   "source": [
    "# print(netflix_titles['show_id'].dtype)\n",
    "# print(netflix_titles['type'].dtype)\n",
    "# print(netflix_titles['title'].dtype)\n",
    "# print(netflix_titles['director'].dtype)\n",
    "# print(netflix_titles['cast'].dtype)\n",
    "# print(netflix_titles['country'].dtype)\n",
    "# print(netflix_titles['date_added'].dtype)\n",
    "# print(netflix_titles['release_year'].dtype)\n",
    "# print(netflix_titles['rating'].dtype)\n",
    "# print(netflix_titles['duration'].dtype)\n",
    "# print(netflix_titles['listed_in'].dtype)\n",
    "# print(netflix_titles['description'].dtype)\n",
    "\n",
    "netflix_titles.dtypes\n"
   ]
  },
  {
   "cell_type": "code",
   "execution_count": null,
   "metadata": {},
   "outputs": [],
   "source": []
  },
  {
   "cell_type": "code",
   "execution_count": 5,
   "metadata": {},
   "outputs": [
    {
     "name": "stdout",
     "output_type": "stream",
     "text": [
      "la taille max du type = 7\n",
      "la taille max du title = 104\n",
      "la taille max du director = 208\n",
      "la taille max du cast = 771\n",
      "la taille max du country = 123\n",
      "la taille max du date_added = 19\n",
      "la taille max du rating = 8\n",
      "la taille max du duration = 10\n",
      "la taille max du listed_in = 79\n",
      "la taille max du description = 248\n"
     ]
    }
   ],
   "source": [
    "d=0\n",
    "thislist = ['type', 'title', 'director', 'cast', 'country', 'date_added', 'rating', 'duration', 'listed_in', 'description']\n",
    "for d in range(0, len(thislist)) : \n",
    "    l=0\n",
    "    for x in netflix_titles[thislist[d]] : \n",
    "        if len(str(x))>l : \n",
    "            l=len(x)\n",
    "    print(\"la taille max du \" + thislist[d]+ \" = \" + str(l))"
   ]
  },
  {
   "cell_type": "code",
   "execution_count": null,
   "metadata": {},
   "outputs": [],
   "source": []
  },
  {
   "cell_type": "code",
   "execution_count": null,
   "metadata": {},
   "outputs": [],
   "source": []
  },
  {
   "cell_type": "raw",
   "metadata": {},
   "source": [
    "Remarque : \n",
    "pour la création et la manipulaton de ma base de données, j'ai utilisé le terminal, ci-après je mets des copier-collers des instructions et requètes que j'ai tapés sur mon terminal."
   ]
  },
  {
   "cell_type": "code",
   "execution_count": null,
   "metadata": {},
   "outputs": [],
   "source": []
  },
  {
   "cell_type": "code",
   "execution_count": null,
   "metadata": {},
   "outputs": [],
   "source": [
    "mysql -u nidhal -p      //   mysql -u nidhal -p --default-character-set='utf8'\n",
    "\n",
    "SHOW DATABASES\n",
    "CREATE DATABASE netflix;\n",
    "USE netflix ;\n",
    "\n",
    "\n",
    "CREATE TABLE netflix_title(\n",
    "    -> show_id int,\n",
    "    -> type  varchar(8) not null,\n",
    "    -> title  varchar(105) not null,\n",
    "    -> director  varchar(209) not null,\n",
    "    -> cast  varchar(778) not null,\n",
    "    -> country  varchar(124) not null,\n",
    "    -> date_added  DATE not null,\n",
    "    -> release_year INT NOT NULL,\n",
    "    -> rating  varchar(9) not null,\n",
    "    -> duration  varchar(11) not null,\n",
    "    -> listed_in  varchar(80) not null,\n",
    "    -> description  varchar(251) not null\n",
    "    -> PRIMARY KEY (show_id)\n",
    "    -> );\n",
    "\n",
    "CREATE TABLE netflix_shows( \n",
    "    title VARCHAR (64), \n",
    "    rating VARCHAR(9), \n",
    "    ratingLevel VARCHAR(126),  \n",
    "    ratingDescription INT NOT NULL, \n",
    "    release_year INT NOT NULL, \n",
    "    user_rating_score VARCHAR(4), \n",
    "    user_rating_size INT NOT NULL \n",
    "    );\n",
    "\n",
    "\n",
    "SHOW TABLES ;\n",
    "\n",
    "\n"
   ]
  },
  {
   "cell_type": "code",
   "execution_count": null,
   "metadata": {},
   "outputs": [],
   "source": [
    "LOAD DATA LOCAL INFILE '/home/nidhal/Netflix_Project/netflix_titles.csv'\n",
    "INTO TABLE netflix_title\n",
    "FIELDS TERMINATED BY ',' \n",
    "ENCLOSED BY '\"' \n",
    "LINES TERMINATED BY '\\n';\n",
    "IGNORE 1 ROWS;\n",
    "\n",
    "SHOW COLUMNS FROM netflix_title ;\n",
    "\n",
    "\n",
    "\n",
    "CREATE TABLE netflix_shows( title VARCHAR (64), rating VARCHAR(9), ratingLevel VARCHAR(126),  ratingDescription INT NOT NULL, release_year INT NOT NULL, user_rating_score VARCHAR(4), user_rating_size INT NOT NULL );\n",
    "\n",
    "LOAD DATA LOCAL INFILE '/home/nidhal/Netflix_Project/Netflix_Shows.csv' \n",
    "INTO TABLE netflix_shows \n",
    "FIELDS TERMINATED BY ',' \n",
    "ENCLOSED BY '\"' \n",
    "LINES TERMINATED BY '\\n' \n",
    "IGNORE 1 ROWS;\n",
    "\n",
    "SHOW COLUMNS FROM netflix_shows ;"
   ]
  },
  {
   "cell_type": "code",
   "execution_count": null,
   "metadata": {},
   "outputs": [],
   "source": [
    "Question : 6\n",
    "    \n",
    "SELECT title FROM netflix_title WHERE show_id <80000000;\n",
    "\n",
    "Question : 7\n",
    "    \n",
    "SELECT duration FROM netflix_title WHERE type = 'TV Show';\n",
    "\n",
    "question 9 : \n",
    "    \n",
    "SELECT t.title, s.title FROM netflix_title t, netflix_shows s WHERE t.title = s.title;\n",
    "\n",
    "question 10 : \n",
    "\n",
    "SELECT SUM(nom_colonne)\n",
    "FROM table\n",
    "\n",
    "SELECT SUM(duration)\n",
    "-> FROM netflix_title\n",
    "-> WHERE type='Movie' ;\n",
    "\n",
    "\n",
    "question 11 : \n",
    "    \n",
    "SELECT COUNT(*) AS nb  FROM netflix_title tvs, netflix_shows rtl WHERE rtl.ratingLevel IS NOT NULL && tvs.type = 'TV Show' ;\n",
    "\n",
    "\n",
    "question 12 : \n",
    "    \n",
    "SELECT COUNT(*) AS nb  FROM netflix_title tvs, netflix_shows rtl WHERE rtl.ratingLevel IS NOT NULL && tvs.type = 'TV Show' ;\n",
    "\n",
    "\n",
    "question 13 : \n",
    "    \n",
    "ALTER TABLE netflix_shows\n",
    "DROP rating ;\n",
    "\n",
    "\n",
    "question 14 : \n",
    "    \n",
    "ALTER TABLE netflix_shows ADD id INT PRIMARY KEY AUTO_INCREMENT;\n",
    "DELETE FROM netflix_shows\n",
    "-> where id>900 ; \n",
    "\n",
    "\n",
    "question 15 : \n",
    "    \n",
    "SELECT *  FROM netflix_shows where ratingLevel = '' ;    => tableau de 57 lignes\n",
    "\n",
    "UPDATE netflix_shows SET ratingLevel = 'ratingLevel _comment' WHERE title = \"Marvel's Iron Fist\" && ratingLevel='';\n",
    "\n",
    "SELECT *  FROM netflix_shows where ratingLevel = '' ;    => tableau de 53 lignes (4 cases vide ont étés remplises)\n",
    "\n",
    "\n",
    "\n"
   ]
  },
  {
   "cell_type": "code",
   "execution_count": null,
   "metadata": {},
   "outputs": [],
   "source": []
  }
 ],
 "metadata": {
  "kernelspec": {
   "display_name": "Python 3",
   "language": "python",
   "name": "python3"
  },
  "language_info": {
   "codemirror_mode": {
    "name": "ipython",
    "version": 3
   },
   "file_extension": ".py",
   "mimetype": "text/x-python",
   "name": "python",
   "nbconvert_exporter": "python",
   "pygments_lexer": "ipython3",
   "version": "3.8.3"
  }
 },
 "nbformat": 4,
 "nbformat_minor": 4
}
